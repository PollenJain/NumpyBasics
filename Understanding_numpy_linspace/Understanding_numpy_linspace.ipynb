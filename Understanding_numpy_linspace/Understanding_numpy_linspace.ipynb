{
 "cells": [
  {
   "cell_type": "markdown",
   "metadata": {},
   "source": [
    "<h3> Function Prototype </h3>\n",
    "<p>linspace(start, stop, num=50, endpoint=True, retstep=False, dtype=None)<br>\n",
    "    Return evenly spaced numbers over a specified interval.<br><br>\n",
    "    \n",
    "    Returns `num` evenly spaced samples, calculated over the\n",
    "    interval [`start`, `stop`].<br><br>\n",
    "    \n",
    "    The endpoint of the interval can optionally be excluded.</p>"
   ]
  },
  {
   "cell_type": "code",
   "execution_count": 29,
   "metadata": {
    "collapsed": true
   },
   "outputs": [],
   "source": [
    "import numpy as np"
   ]
  },
  {
   "cell_type": "code",
   "execution_count": 30,
   "metadata": {},
   "outputs": [
    {
     "name": "stdout",
     "output_type": "stream",
     "text": [
      "[  1.           1.18367347   1.36734694   1.55102041   1.73469388\n",
      "   1.91836735   2.10204082   2.28571429   2.46938776   2.65306122\n",
      "   2.83673469   3.02040816   3.20408163   3.3877551    3.57142857\n",
      "   3.75510204   3.93877551   4.12244898   4.30612245   4.48979592\n",
      "   4.67346939   4.85714286   5.04081633   5.2244898    5.40816327\n",
      "   5.59183673   5.7755102    5.95918367   6.14285714   6.32653061\n",
      "   6.51020408   6.69387755   6.87755102   7.06122449   7.24489796\n",
      "   7.42857143   7.6122449    7.79591837   7.97959184   8.16326531\n",
      "   8.34693878   8.53061224   8.71428571   8.89795918   9.08163265\n",
      "   9.26530612   9.44897959   9.63265306   9.81632653  10.        ]\n",
      "50\n"
     ]
    }
   ],
   "source": [
    "a = np.linspace(1, 10)\n",
    "print(a) # generate evenly spaced 50 samples (since default value of num=50) between 1 and 10\n",
    "print(len(a))"
   ]
  },
  {
   "cell_type": "code",
   "execution_count": 31,
   "metadata": {},
   "outputs": [
    {
     "name": "stdout",
     "output_type": "stream",
     "text": [
      "[  1.   2.   3.   4.   5.   6.   7.   8.   9.  10.]\n",
      "10\n"
     ]
    }
   ],
   "source": [
    "b = np.linspace(start=1, stop=10, num=10)\n",
    "print(b) # Generate 10 (num=10) EVENLY SPACED samples between 1 and 10 (both inclusive, since by default endpoint=True)\n",
    "print(len(b)), "
   ]
  },
  {
   "cell_type": "code",
   "execution_count": 32,
   "metadata": {},
   "outputs": [
    {
     "name": "stdout",
     "output_type": "stream",
     "text": [
      "[ 1.          1.77777778  2.55555556  3.33333333  4.11111111  4.88888889\n",
      "  5.66666667  6.44444444  7.22222222  8.        ]\n",
      "10\n"
     ]
    }
   ],
   "source": [
    "c = np.linspace(start=1, stop=8, num=10)\n",
    "print(c)\n",
    "print(len(c))"
   ]
  },
  {
   "cell_type": "code",
   "execution_count": 34,
   "metadata": {},
   "outputs": [
    {
     "name": "stdout",
     "output_type": "stream",
     "text": [
      "[ 1.   1.9  2.8  3.7  4.6  5.5  6.4  7.3  8.2  9.1]\n",
      "10\n"
     ]
    }
   ],
   "source": [
    "d = np.linspace(start=1, stop=10, num=10, endpoint=False) #Do not include 10 (stop=10) in output\n",
    "print(d) # print 10 (num=10) evenly spaced samples between [1,10)\n",
    "print(len(d))"
   ]
  },
  {
   "cell_type": "markdown",
   "metadata": {},
   "source": [
    "<h3><u> Applied to resize the image in a pyramid </u><h3>\n",
    "<h3>Start with 100 percent of the original size and go till 20 percent of the original size and we want to go from 100 percent till 20 percent in 20 equal steps</h3>"
   ]
  },
  {
   "cell_type": "code",
   "execution_count": 39,
   "metadata": {},
   "outputs": [
    {
     "name": "stdout",
     "output_type": "stream",
     "text": [
      "[ 0.2         0.24210526  0.28421053  0.32631579  0.36842105  0.41052632\n",
      "  0.45263158  0.49473684  0.53684211  0.57894737  0.62105263  0.66315789\n",
      "  0.70526316  0.74736842  0.78947368  0.83157895  0.87368421  0.91578947\n",
      "  0.95789474  1.        ]\n",
      "20\n",
      "[ 1.          0.95789474  0.91578947  0.87368421  0.83157895  0.78947368\n",
      "  0.74736842  0.70526316  0.66315789  0.62105263  0.57894737  0.53684211\n",
      "  0.49473684  0.45263158  0.41052632  0.36842105  0.32631579  0.28421053\n",
      "  0.24210526  0.2       ]\n",
      "New width : 10.00\n",
      "New width : 9.58\n",
      "New width : 9.16\n",
      "New width : 8.74\n",
      "New width : 8.32\n",
      "New width : 7.89\n",
      "New width : 7.47\n",
      "New width : 7.05\n",
      "New width : 6.63\n",
      "New width : 6.21\n",
      "New width : 5.79\n",
      "New width : 5.37\n",
      "New width : 4.95\n",
      "New width : 4.53\n",
      "New width : 4.11\n",
      "New width : 3.68\n",
      "New width : 3.26\n",
      "New width : 2.84\n",
      "New width : 2.42\n",
      "New width : 2.00\n"
     ]
    }
   ],
   "source": [
    "e = np.linspace(start=0.2, stop=1.0, num=20, endpoint=True)\n",
    "print(e)\n",
    "print(len(e))\n",
    "print(e[::-1]) # Invert by using negative indexing\n",
    "original_width = 10\n",
    "for scale in e[::-1]:\n",
    "    print(\"New width : {0:4.2f}\".format(original_width*scale))"
   ]
  },
  {
   "cell_type": "code",
   "execution_count": null,
   "metadata": {
    "collapsed": true
   },
   "outputs": [],
   "source": []
  }
 ],
 "metadata": {
  "kernelspec": {
   "display_name": "Python 2",
   "language": "python",
   "name": "python2"
  },
  "language_info": {
   "codemirror_mode": {
    "name": "ipython",
    "version": 2
   },
   "file_extension": ".py",
   "mimetype": "text/x-python",
   "name": "python",
   "nbconvert_exporter": "python",
   "pygments_lexer": "ipython2",
   "version": "2.7.13"
  }
 },
 "nbformat": 4,
 "nbformat_minor": 2
}
