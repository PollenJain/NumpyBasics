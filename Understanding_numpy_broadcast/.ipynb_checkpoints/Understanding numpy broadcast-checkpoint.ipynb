{
 "cells": [
  {
   "cell_type": "code",
   "execution_count": 1,
   "metadata": {
    "collapsed": true
   },
   "outputs": [],
   "source": [
    "import numpy as np"
   ]
  },
  {
   "cell_type": "code",
   "execution_count": 6,
   "metadata": {
    "collapsed": false
   },
   "outputs": [
    {
     "data": {
      "text/plain": [
       "' Broadcast in Numpy : Performing Arithmetic operations on matrices of different shape'"
      ]
     },
     "execution_count": 6,
     "metadata": {},
     "output_type": "execute_result"
    }
   ],
   "source": [
    "''' Broadcast in Numpy : Performing Arithmetic operations on matrices of different shape'''"
   ]
  },
  {
   "cell_type": "code",
   "execution_count": 7,
   "metadata": {
    "collapsed": true
   },
   "outputs": [],
   "source": [
    "x = np.array([[1,2,3], [3,4,5]]) # (2 rows, 3 columns each) => 2 dimensional\n",
    "y = np.array([2,2,2]) # (2,) => 1 dimensional"
   ]
  },
  {
   "cell_type": "code",
   "execution_count": 8,
   "metadata": {
    "collapsed": false
   },
   "outputs": [
    {
     "data": {
      "text/plain": [
       "'Add y to each of the row of x'"
      ]
     },
     "execution_count": 8,
     "metadata": {},
     "output_type": "execute_result"
    }
   ],
   "source": [
    "'''Add y to each of the row of x'''"
   ]
  },
  {
   "cell_type": "code",
   "execution_count": 9,
   "metadata": {
    "collapsed": false
   },
   "outputs": [
    {
     "name": "stdout",
     "output_type": "stream",
     "text": [
      "[[3 4 5]\n",
      " [5 6 7]]\n"
     ]
    }
   ],
   "source": [
    "'''Method 1 : Explicit looping for each row'''\n",
    "no_of_rows_in_x = x.shape[0]\n",
    "# Container to store the sum/output\n",
    "s = np.empty_like(x) # (2 rows same as x, 3 columns each same as x) => output dimension\n",
    "for i in range(no_of_rows_in_x):\n",
    "    s[i,:] = x[i,:] + y\n",
    "\n",
    "print(s)"
   ]
  },
  {
   "cell_type": "code",
   "execution_count": 13,
   "metadata": {
    "collapsed": false
   },
   "outputs": [
    {
     "name": "stdout",
     "output_type": "stream",
     "text": [
      "[[2 2 2]\n",
      " [2 2 2]]\n"
     ]
    }
   ],
   "source": [
    "'''Method 2: Internally Numpy does arithmetic operations for matrices of different shapes in this manner'''\n",
    "vector_to_matrix = np.tile(y, (no_of_rows_in_x,1)) # 2 dimensional, vector converted to a matrix\n",
    "print(vector_to_matrix)"
   ]
  },
  {
   "cell_type": "code",
   "execution_count": 14,
   "metadata": {
    "collapsed": false
   },
   "outputs": [
    {
     "name": "stdout",
     "output_type": "stream",
     "text": [
      "[[3 4 5]\n",
      " [5 6 7]]\n"
     ]
    }
   ],
   "source": [
    "output_2 = x + vector_to_matrix # (2,3) + (2,3) = (2,3)\n",
    "print(output_2)"
   ]
  },
  {
   "cell_type": "code",
   "execution_count": 15,
   "metadata": {
    "collapsed": false
   },
   "outputs": [
    {
     "name": "stdout",
     "output_type": "stream",
     "text": [
      "[[3 4 5]\n",
      " [5 6 7]]\n"
     ]
    }
   ],
   "source": [
    "'''Numpy broadcast'''\n",
    "direct_output = x + y\n",
    "print(direct_output)"
   ]
  },
  {
   "cell_type": "code",
   "execution_count": null,
   "metadata": {
    "collapsed": true
   },
   "outputs": [],
   "source": []
  }
 ],
 "metadata": {
  "anaconda-cloud": {},
  "kernelspec": {
   "display_name": "Python [default]",
   "language": "python",
   "name": "python3"
  },
  "language_info": {
   "codemirror_mode": {
    "name": "ipython",
    "version": 3
   },
   "file_extension": ".py",
   "mimetype": "text/x-python",
   "name": "python",
   "nbconvert_exporter": "python",
   "pygments_lexer": "ipython3",
   "version": "3.5.2"
  }
 },
 "nbformat": 4,
 "nbformat_minor": 2
}
