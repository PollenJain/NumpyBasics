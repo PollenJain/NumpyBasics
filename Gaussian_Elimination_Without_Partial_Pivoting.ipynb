{
 "cells": [
  {
   "cell_type": "code",
   "execution_count": 36,
   "metadata": {
    "collapsed": true
   },
   "outputs": [],
   "source": [
    "import numpy as np"
   ]
  },
  {
   "cell_type": "markdown",
   "metadata": {},
   "source": [
    "## Solving the following equations\n",
    "\n",
    "### Consistent system of equations with exactly one solution\n",
    "$$\\begin{eqnarray}\n",
    "2p - 3q &=& 3\\\\\n",
    "4p - 5q + r &=& 7\\\\\n",
    "2p - q - 3r &=& 5\\\\\n",
    "\\end{eqnarray}$$\n",
    "\n",
    "\n",
    "### Consistent system of equations with infinitely many solutions\n",
    "$$\\begin{eqnarray}\n",
    "4p - 5q + r &=& 7\\\\\n",
    "8p - 10q + 2r &=& 14\\\\\n",
    "12p - 15q + 3r &=& 21\\\\\n",
    "\\end{eqnarray}$$\n",
    "\n",
    "Another example would be :\n",
    "$$\\begin{eqnarray}\n",
    "x + y + z &=& 2\\\\\n",
    "2x + 2y + 2z &=& 4\\\\\n",
    "\\end{eqnarray}\n",
    "$$\n",
    "\n",
    "Even though,<br>\n",
    "    **no of unknowns > no of equations**<br>\n",
    "still we have a solution.\n",
    "\n",
    "### Inconsistent system of equations ( system of equations with No Solution such as 2 parallel lines/planes )\n",
    "$$\\begin{eqnarray}\n",
    "x + y &=& 2\\\\\n",
    "x + y &=& 3\\\\\n",
    "\\end{eqnarray}$$"
   ]
  },
  {
   "cell_type": "markdown",
   "metadata": {},
   "source": [
    " ## Expressing above system of equations in Ax = b form"
   ]
  },
  {
   "cell_type": "code",
   "execution_count": 87,
   "metadata": {
    "collapsed": false
   },
   "outputs": [
    {
     "name": "stdout",
     "output_type": "stream",
     "text": [
      "Matrix A\n",
      "[[1 1 1]\n",
      " [2 2 2]]\n",
      "Vector b\n",
      "[2 4]\n",
      "Vector x\n",
      "[0 0]\n"
     ]
    }
   ],
   "source": [
    "'''Coefficient Matrix'''\n",
    "\n",
    "''' Consistent System '''\n",
    "\n",
    "''' Exactly one solution '''\n",
    "#A = np.array([[2, -3, 0],[4, -5, 1],[2, -1, -3]])\n",
    "#b = np.array([3,7,5])\n",
    "\n",
    "''' Infinitely many solutions '''\n",
    "\n",
    "''' Case 1 : number of unknowns = number of equations '''\n",
    "#A = np.array([[4, -5, 1], [8, -10, 2], [12, -15, 3]])\n",
    "#b = np.array([7, 14, 21])\n",
    "\n",
    "''' Case 2 : number of unknowns > number of equations '''\n",
    "A = np.array([[1,1,1], [2,2,2]])\n",
    "b = np.array([2,4])\n",
    "\n",
    "''' Inconsistent system of equations '''\n",
    "#A = np.array([[1, 1], [1, 1]])\n",
    "#b = np.array([2, 3])\n",
    "\n",
    "x = np.zeros_like(b)\n",
    "\n",
    "''' Solution can exist even when number of unknowns is more than number of equations. '''\n",
    "# assert A.shape[1] == b.shape[0], \"Matrix vector multiplication cannot be performed.\"\n",
    "\n",
    "print(\"Matrix A\")\n",
    "print(A)\n",
    "print(\"Vector b\")\n",
    "print(b)\n",
    "print(\"Vector x\")\n",
    "print(x)"
   ]
  },
  {
   "cell_type": "markdown",
   "metadata": {},
   "source": [
    "## Forward Elimination"
   ]
  },
  {
   "cell_type": "code",
   "execution_count": 94,
   "metadata": {
    "collapsed": false
   },
   "outputs": [
    {
     "name": "stdout",
     "output_type": "stream",
     "text": [
      "\n",
      "Pivot row number:1\n",
      "[1 1 1] 2\n",
      "Pivot Element:1\n",
      "Multiplier 0.0\n",
      "\n",
      "Pivot row number:2\n",
      "[0 0 0] 0\n",
      "Equation number 2 is a linear multiple of Equation number 1\n"
     ]
    }
   ],
   "source": [
    "''' Last row is never the pivot row. Therefore, range(A.shape[0])'''\n",
    "no_of_rows_became_all_zero = 0\n",
    "no_solution = False\n",
    "for pivot_row_index in range(A.shape[0]):\n",
    "    print()\n",
    "    print(\"Pivot row number:{}\".format(pivot_row_index+1))\n",
    "    print(A[pivot_row_index,:], b[pivot_row_index])\n",
    "    ''' np.any returns False if all the elements in an array are zeros '''\n",
    "    if not np.any(A[pivot_row_index,:]): \n",
    "        if not np.any(b[pivot_row_index]):\n",
    "            ''' Only if both LHS and RHS are equal to zero, then the 2 lines/planes completely overlap each other'''\n",
    "            print(\"Equation number {} is a linear multiple of Equation number {}\".format(pivot_row_index+1, pivot_row_index))\n",
    "            no_of_rows_became_all_zero = no_of_rows_became_all_zero + 1\n",
    "        else:\n",
    "            print(\"Inconsistent system of equations found. This system has NO SOLUTION.\")\n",
    "            no_solution = True\n",
    "            break\n",
    "    else:\n",
    "        for other_row_index in range(pivot_row_index+1, A.shape[0]):\n",
    "            '''In python 3.x, 4/2 is floating point division, 4//2 is integral division.'''\n",
    "            #print(\"Denominator:{}\".format(A[pivot_row_index, pivot_row_index]))\n",
    "            #print(\"Numerator:{}\".format(A[other_row_index, pivot_row_index]))\n",
    "            #print(\"Divison:{}\".format(A[other_row_index, pivot_row_index]/A[pivot_row_index, pivot_row_index]))\n",
    "            pivot_element = A[pivot_row_index, pivot_row_index]\n",
    "            print(\"Pivot Element:{}\".format(pivot_element))\n",
    "            multiplier = A[other_row_index, pivot_row_index]/A[pivot_row_index, pivot_row_index]\n",
    "            print(\"Multiplier {}\".format(multiplier))\n",
    "            A[other_row_index, :] = A[other_row_index, :] - multiplier * A[pivot_row_index, :]\n",
    "            b[other_row_index] = b[other_row_index] - multiplier * b[pivot_row_index]\n",
    "            \n",
    "assert not no_solution, \"NO SOLUTION!!!\""
   ]
  },
  {
   "cell_type": "markdown",
   "metadata": {},
   "source": [
    "## Coefficient Matrix A and vector b after Forward Elimination"
   ]
  },
  {
   "cell_type": "code",
   "execution_count": 89,
   "metadata": {
    "collapsed": false
   },
   "outputs": [
    {
     "name": "stdout",
     "output_type": "stream",
     "text": [
      "Matrix A\n",
      "[[1 1 1]\n",
      " [0 0 0]]\n",
      "Vector b\n",
      "[2 0]\n"
     ]
    }
   ],
   "source": [
    "print(\"Matrix A\")\n",
    "print(A)\n",
    "'''Vector b after Forward Elimination'''\n",
    "print(\"Vector b\")\n",
    "print(b)"
   ]
  },
  {
   "cell_type": "markdown",
   "metadata": {},
   "source": [
    "# Back Substitution"
   ]
  },
  {
   "cell_type": "markdown",
   "metadata": {},
   "source": [
    "## Dimensional Analysis"
   ]
  },
  {
   "cell_type": "code",
   "execution_count": 90,
   "metadata": {
    "collapsed": false
   },
   "outputs": [
    {
     "name": "stdout",
     "output_type": "stream",
     "text": [
      "Dimensions of A\n",
      "(2, 3)\n",
      "Dimensions of b\n",
      "(2,)\n"
     ]
    }
   ],
   "source": [
    "# Dimensions of Coefficient Matrix A\n",
    "print(\"Dimensions of A\")\n",
    "print(A.shape)\n",
    "# Dimensions of vector b\n",
    "print(\"Dimensions of b\")\n",
    "print(b.shape)"
   ]
  },
  {
   "cell_type": "markdown",
   "metadata": {},
   "source": [
    "## Solving for p, q and r\n",
    "For equation,\n",
    "$$\\begin{eqnarray}\n",
    "ap + bq + cr &=& d\\\\\n",
    "where, \n",
    "   p = \\frac{(d - bq - cr)}{a}\\\\\n",
    "\\end{eqnarray}$$"
   ]
  },
  {
   "cell_type": "code",
   "execution_count": 91,
   "metadata": {
    "collapsed": false
   },
   "outputs": [
    {
     "ename": "AssertionError",
     "evalue": "Consistent system of equations have infinitely many solutions.",
     "output_type": "error",
     "traceback": [
      "\u001b[0;31m---------------------------------------------------------------------------\u001b[0m",
      "\u001b[0;31mAssertionError\u001b[0m                            Traceback (most recent call last)",
      "\u001b[0;32m<ipython-input-91-42334b88a577>\u001b[0m in \u001b[0;36m<module>\u001b[0;34m()\u001b[0m\n\u001b[1;32m      1\u001b[0m \u001b[0;34m''' Check if the consistent system of equations have infinitely many solutions.'''\u001b[0m\u001b[0;34m\u001b[0m\u001b[0m\n\u001b[0;32m----> 2\u001b[0;31m \u001b[0;32massert\u001b[0m \u001b[0mno_of_rows_became_all_zero\u001b[0m \u001b[0;34m!=\u001b[0m \u001b[0;34m(\u001b[0m\u001b[0mA\u001b[0m\u001b[0;34m.\u001b[0m\u001b[0mshape\u001b[0m\u001b[0;34m[\u001b[0m\u001b[0;36m0\u001b[0m\u001b[0;34m]\u001b[0m\u001b[0;34m-\u001b[0m\u001b[0;36m1\u001b[0m\u001b[0;34m)\u001b[0m\u001b[0;34m,\u001b[0m \u001b[0;34m\"Consistent system of equations have infinitely many solutions.\"\u001b[0m\u001b[0;34m\u001b[0m\u001b[0m\n\u001b[0m",
      "\u001b[0;31mAssertionError\u001b[0m: Consistent system of equations have infinitely many solutions."
     ]
    }
   ],
   "source": [
    "''' Check if the consistent system of equations have infinitely many solutions.'''\n",
    "assert no_of_rows_became_all_zero != (A.shape[0]-1), \"Consistent system of equations have infinitely many solutions.\""
   ]
  },
  {
   "cell_type": "code",
   "execution_count": 93,
   "metadata": {
    "collapsed": false
   },
   "outputs": [
    {
     "ename": "ValueError",
     "evalue": "shapes (1,) and (0,) not aligned: 1 (dim 0) != 0 (dim 0)",
     "output_type": "error",
     "traceback": [
      "\u001b[0;31m---------------------------------------------------------------------------\u001b[0m",
      "\u001b[0;31mValueError\u001b[0m                                Traceback (most recent call last)",
      "\u001b[0;32m<ipython-input-93-d80fbc622b05>\u001b[0m in \u001b[0;36m<module>\u001b[0;34m()\u001b[0m\n\u001b[1;32m      2\u001b[0m \u001b[0;34m''' Solving the equations in a bottom up fashion'''\u001b[0m\u001b[0;34m\u001b[0m\u001b[0m\n\u001b[1;32m      3\u001b[0m \u001b[0;32mfor\u001b[0m \u001b[0mi\u001b[0m \u001b[0;32min\u001b[0m \u001b[0mrange\u001b[0m\u001b[0;34m(\u001b[0m\u001b[0mx\u001b[0m\u001b[0;34m.\u001b[0m\u001b[0mshape\u001b[0m\u001b[0;34m[\u001b[0m\u001b[0;36m0\u001b[0m\u001b[0;34m]\u001b[0m\u001b[0;34m-\u001b[0m\u001b[0;36m1\u001b[0m\u001b[0;34m,\u001b[0m \u001b[0;34m-\u001b[0m\u001b[0;36m1\u001b[0m\u001b[0;34m,\u001b[0m \u001b[0;34m-\u001b[0m\u001b[0;36m1\u001b[0m\u001b[0;34m)\u001b[0m\u001b[0;34m:\u001b[0m\u001b[0;34m\u001b[0m\u001b[0m\n\u001b[0;32m----> 4\u001b[0;31m     \u001b[0mx\u001b[0m\u001b[0;34m[\u001b[0m\u001b[0mi\u001b[0m\u001b[0;34m]\u001b[0m \u001b[0;34m=\u001b[0m \u001b[0;34m(\u001b[0m\u001b[0mb\u001b[0m\u001b[0;34m[\u001b[0m\u001b[0mi\u001b[0m\u001b[0;34m]\u001b[0m \u001b[0;34m-\u001b[0m \u001b[0mnp\u001b[0m\u001b[0;34m.\u001b[0m\u001b[0mdot\u001b[0m\u001b[0;34m(\u001b[0m\u001b[0mA\u001b[0m\u001b[0;34m[\u001b[0m\u001b[0mi\u001b[0m\u001b[0;34m,\u001b[0m\u001b[0mi\u001b[0m\u001b[0;34m+\u001b[0m\u001b[0;36m1\u001b[0m\u001b[0;34m:\u001b[0m\u001b[0;34m]\u001b[0m\u001b[0;34m,\u001b[0m\u001b[0mx\u001b[0m\u001b[0;34m[\u001b[0m\u001b[0mi\u001b[0m\u001b[0;34m+\u001b[0m\u001b[0;36m1\u001b[0m\u001b[0;34m:\u001b[0m\u001b[0;34m]\u001b[0m\u001b[0;34m)\u001b[0m\u001b[0;34m)\u001b[0m\u001b[0;34m/\u001b[0m\u001b[0mA\u001b[0m\u001b[0;34m[\u001b[0m\u001b[0mi\u001b[0m\u001b[0;34m,\u001b[0m\u001b[0mi\u001b[0m\u001b[0;34m]\u001b[0m\u001b[0;34m\u001b[0m\u001b[0m\n\u001b[0m\u001b[1;32m      5\u001b[0m \u001b[0mprint\u001b[0m\u001b[0;34m(\u001b[0m\u001b[0mx\u001b[0m\u001b[0;34m)\u001b[0m\u001b[0;34m\u001b[0m\u001b[0m\n",
      "\u001b[0;31mValueError\u001b[0m: shapes (1,) and (0,) not aligned: 1 (dim 0) != 0 (dim 0)"
     ]
    }
   ],
   "source": [
    "''' For consistent system of equations with a unique solution.'''\n",
    "''' Solving the equations in a bottom up fashion'''\n",
    "for i in range(x.shape[0]-1, -1, -1):\n",
    "    x[i] = (b[i] - np.dot(A[i,i+1:],x[i+1:]))/A[i,i]\n",
    "print(x)"
   ]
  },
  {
   "cell_type": "code",
   "execution_count": null,
   "metadata": {
    "collapsed": true
   },
   "outputs": [],
   "source": []
  }
 ],
 "metadata": {
  "anaconda-cloud": {},
  "kernelspec": {
   "display_name": "Python [conda env:tf1]",
   "language": "python",
   "name": "conda-env-tf1-py"
  },
  "language_info": {
   "codemirror_mode": {
    "name": "ipython",
    "version": 3
   },
   "file_extension": ".py",
   "mimetype": "text/x-python",
   "name": "python",
   "nbconvert_exporter": "python",
   "pygments_lexer": "ipython3",
   "version": "3.6.1"
  }
 },
 "nbformat": 4,
 "nbformat_minor": 1
}
